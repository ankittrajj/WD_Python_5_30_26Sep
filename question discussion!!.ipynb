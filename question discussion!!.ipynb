{
 "cells": [
  {
   "cell_type": "code",
   "execution_count": 2,
   "id": "67b006a7",
   "metadata": {},
   "outputs": [
    {
     "name": "stdout",
     "output_type": "stream",
     "text": [
      "Not allowed\n"
     ]
    }
   ],
   "source": [
    "# 8.\n",
    "# A student will not be allowed to sit in exam \n",
    "# if his/her attendence is less than 75%.\n",
    "# Take following input from user\n",
    "# Number of classes held\n",
    "# Number of classes attended.\n",
    "# And print\n",
    "# percentage of class attended\n",
    "# Is student is allowed to sit in exam or not.\n",
    "# ________________________________________\n",
    "# 9.\n",
    "# Modify the above question to allow student to sit if he/she has medical cause. Ask user if he/she has medical cause or not ( 'Y' or 'N' ) and print accordingly.\n",
    "\n",
    "\n",
    "total_class = 100\n",
    "attend_class = 34\n",
    "per = (attend_class*100)/total_class\n",
    "if per>75:\n",
    "    print(\"Allowed\")\n",
    "else:\n",
    "    print(\"Not allowed\")"
   ]
  },
  {
   "cell_type": "code",
   "execution_count": 6,
   "id": "5e9d0b7e",
   "metadata": {},
   "outputs": [
    {
     "name": "stdout",
     "output_type": "stream",
     "text": [
      "Not allowed\n",
      "Medical Condition:Y or N----> N\n",
      "Not allowed\n"
     ]
    }
   ],
   "source": [
    "total_class = 100\n",
    "attend_class = 34\n",
    "per = (attend_class*100)/total_class\n",
    "if per>75:\n",
    "    print(\"Allowed\")\n",
    "else:\n",
    "    print(\"Not allowed\")\n",
    "    med_con = input(\"Medical Condition:Y or N----> \")\n",
    "    if med_con == 'Y':\n",
    "        print(\"allowed on medical condition\")\n",
    "    else:\n",
    "        print(\"Not allowed\")"
   ]
  },
  {
   "cell_type": "code",
   "execution_count": 8,
   "id": "331bd446",
   "metadata": {},
   "outputs": [
    {
     "name": "stdout",
     "output_type": "stream",
     "text": [
      "1800.0\n",
      "21800.0\n"
     ]
    }
   ],
   "source": [
    "#Wap to calculate the sal of the emp.where if the emp take more than 5 holidays the\n",
    "# there is a deduction of 3% from the salary or if the holidays are less in \n",
    "# number then there is a bonus of 9% .\n",
    "\n",
    "sal = 20000\n",
    "leave = 1\n",
    "if leave > 5 :\n",
    "    ded = (3*20000)/100\n",
    "    print(ded)\n",
    "    t_sal = sal-ded\n",
    "    print(t_sal)\n",
    "\n",
    "else:\n",
    "    bonus = (9*20000)/100\n",
    "    print(bonus)\n",
    "    total_sal = sal+bonus\n",
    "    print(total_sal)"
   ]
  },
  {
   "cell_type": "code",
   "execution_count": 12,
   "id": "7e2eec20",
   "metadata": {},
   "outputs": [
    {
     "name": "stdout",
     "output_type": "stream",
     "text": [
      "Enter the number8\n",
      "divide by 2 only\n"
     ]
    }
   ],
   "source": [
    "#wap to print a number which is divisible by 2 but not by 3.\n",
    "#wap to print a number which is divisible by both 2 & 3.\n",
    "#wap to print a number which is divisible by both 5 & 3 but not by 2.\n",
    "#wap to find the number which is divisible by 5 & 11 but not by 2 & 10.\n",
    "#wap to calculate profit and loss.\n",
    "\n",
    "\n",
    "a = int(input(\"Enter the number\"))\n",
    "if a %2 == 0 and a%3!=0:\n",
    "    print(\"divide by 2 only\")\n",
    "else:\n",
    "    print(\"number is divided by both\")\n"
   ]
  },
  {
   "cell_type": "code",
   "execution_count": null,
   "id": "bd64c9fe",
   "metadata": {},
   "outputs": [],
   "source": []
  }
 ],
 "metadata": {
  "kernelspec": {
   "display_name": "Python 3 (ipykernel)",
   "language": "python",
   "name": "python3"
  },
  "language_info": {
   "codemirror_mode": {
    "name": "ipython",
    "version": 3
   },
   "file_extension": ".py",
   "mimetype": "text/x-python",
   "name": "python",
   "nbconvert_exporter": "python",
   "pygments_lexer": "ipython3",
   "version": "3.9.7"
  }
 },
 "nbformat": 4,
 "nbformat_minor": 5
}
