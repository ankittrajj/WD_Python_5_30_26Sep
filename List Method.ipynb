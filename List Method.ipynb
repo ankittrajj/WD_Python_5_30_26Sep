{
 "cells": [
  {
   "cell_type": "code",
   "execution_count": 1,
   "id": "e51c0cc6",
   "metadata": {},
   "outputs": [
    {
     "data": {
      "text/plain": [
       "[23, 45, 6, 'python', 'css', True]"
      ]
     },
     "execution_count": 1,
     "metadata": {},
     "output_type": "execute_result"
    }
   ],
   "source": [
    "#append\n",
    "#count\n",
    "#insert\n",
    "#pop\n",
    "#remove\n",
    "#reverse\n",
    "#sort\n",
    "\n",
    "x = [23,45,6,'python','css',True]\n",
    "x"
   ]
  },
  {
   "cell_type": "code",
   "execution_count": 10,
   "id": "2cdba793",
   "metadata": {},
   "outputs": [],
   "source": [
    "x.append(16)"
   ]
  },
  {
   "cell_type": "code",
   "execution_count": 11,
   "id": "fc52f296",
   "metadata": {},
   "outputs": [
    {
     "data": {
      "text/plain": [
       "[23, 45, 6, 'python', 'css', True, 0, 0, 10, 16]"
      ]
     },
     "execution_count": 11,
     "metadata": {},
     "output_type": "execute_result"
    }
   ],
   "source": [
    "x"
   ]
  },
  {
   "cell_type": "code",
   "execution_count": 12,
   "id": "5ee4e0f1",
   "metadata": {},
   "outputs": [],
   "source": [
    "x.append(34)"
   ]
  },
  {
   "cell_type": "code",
   "execution_count": 13,
   "id": "d5a21b1a",
   "metadata": {},
   "outputs": [
    {
     "data": {
      "text/plain": [
       "[23, 45, 6, 'python', 'css', True, 0, 0, 10, 16, 34]"
      ]
     },
     "execution_count": 13,
     "metadata": {},
     "output_type": "execute_result"
    }
   ],
   "source": [
    "x"
   ]
  },
  {
   "cell_type": "code",
   "execution_count": 14,
   "id": "b7e15147",
   "metadata": {},
   "outputs": [
    {
     "data": {
      "text/plain": [
       "[23, 45, 6, 'python', 'css', True, 0, 0, 10, 16, 34]"
      ]
     },
     "execution_count": 14,
     "metadata": {},
     "output_type": "execute_result"
    }
   ],
   "source": [
    "x"
   ]
  },
  {
   "cell_type": "code",
   "execution_count": 19,
   "id": "49185973",
   "metadata": {},
   "outputs": [
    {
     "data": {
      "text/plain": [
       "0"
      ]
     },
     "execution_count": 19,
     "metadata": {},
     "output_type": "execute_result"
    }
   ],
   "source": [
    "x.count(89)"
   ]
  },
  {
   "cell_type": "code",
   "execution_count": 20,
   "id": "76bc0b5d",
   "metadata": {},
   "outputs": [
    {
     "data": {
      "text/plain": [
       "[23, 45, 6, 'python', 'css', True, 0, 0, 10, 16, 34]"
      ]
     },
     "execution_count": 20,
     "metadata": {},
     "output_type": "execute_result"
    }
   ],
   "source": [
    "x"
   ]
  },
  {
   "cell_type": "code",
   "execution_count": 22,
   "id": "6788ab9d",
   "metadata": {},
   "outputs": [],
   "source": [
    "x.insert(0,1)"
   ]
  },
  {
   "cell_type": "code",
   "execution_count": 23,
   "id": "d30b8ed9",
   "metadata": {},
   "outputs": [
    {
     "data": {
      "text/plain": [
       "[1, 23, 45, 6, 'python', 'css', True, 0, 0, 10, 16, 34]"
      ]
     },
     "execution_count": 23,
     "metadata": {},
     "output_type": "execute_result"
    }
   ],
   "source": [
    "x"
   ]
  },
  {
   "cell_type": "code",
   "execution_count": 29,
   "id": "aa8714da",
   "metadata": {},
   "outputs": [],
   "source": [
    "x.insert(7,'akshit')"
   ]
  },
  {
   "cell_type": "code",
   "execution_count": 30,
   "id": "ff10287d",
   "metadata": {},
   "outputs": [
    {
     "name": "stdout",
     "output_type": "stream",
     "text": [
      "[1, 23, 45, 6, 'python', 'css', True, 'akshit', 'akshit', 'akshit', 0, 0, 10, 16, 34]\n"
     ]
    }
   ],
   "source": [
    "print(x)"
   ]
  },
  {
   "cell_type": "code",
   "execution_count": 31,
   "id": "43d4ac06",
   "metadata": {},
   "outputs": [
    {
     "data": {
      "text/plain": [
       "[1,\n",
       " 23,\n",
       " 45,\n",
       " 6,\n",
       " 'python',\n",
       " 'css',\n",
       " True,\n",
       " 'akshit',\n",
       " 'akshit',\n",
       " 'akshit',\n",
       " 0,\n",
       " 0,\n",
       " 10,\n",
       " 16,\n",
       " 34]"
      ]
     },
     "execution_count": 31,
     "metadata": {},
     "output_type": "execute_result"
    }
   ],
   "source": [
    "# pop\n",
    "x"
   ]
  },
  {
   "cell_type": "code",
   "execution_count": 32,
   "id": "c5e7a497",
   "metadata": {},
   "outputs": [
    {
     "data": {
      "text/plain": [
       "34"
      ]
     },
     "execution_count": 32,
     "metadata": {},
     "output_type": "execute_result"
    }
   ],
   "source": [
    "x.pop()"
   ]
  },
  {
   "cell_type": "code",
   "execution_count": 33,
   "id": "a088db7f",
   "metadata": {},
   "outputs": [
    {
     "data": {
      "text/plain": [
       "[1,\n",
       " 23,\n",
       " 45,\n",
       " 6,\n",
       " 'python',\n",
       " 'css',\n",
       " True,\n",
       " 'akshit',\n",
       " 'akshit',\n",
       " 'akshit',\n",
       " 0,\n",
       " 0,\n",
       " 10,\n",
       " 16]"
      ]
     },
     "execution_count": 33,
     "metadata": {},
     "output_type": "execute_result"
    }
   ],
   "source": [
    "x"
   ]
  },
  {
   "cell_type": "code",
   "execution_count": 34,
   "id": "cf0eb856",
   "metadata": {},
   "outputs": [
    {
     "data": {
      "text/plain": [
       "10"
      ]
     },
     "execution_count": 34,
     "metadata": {},
     "output_type": "execute_result"
    }
   ],
   "source": [
    "x.pop(12)"
   ]
  },
  {
   "cell_type": "code",
   "execution_count": 35,
   "id": "58a347b3",
   "metadata": {},
   "outputs": [
    {
     "data": {
      "text/plain": [
       "[1, 23, 45, 6, 'python', 'css', True, 'akshit', 'akshit', 'akshit', 0, 0, 16]"
      ]
     },
     "execution_count": 35,
     "metadata": {},
     "output_type": "execute_result"
    }
   ],
   "source": [
    "x"
   ]
  },
  {
   "cell_type": "code",
   "execution_count": 36,
   "id": "57ffc8da",
   "metadata": {},
   "outputs": [
    {
     "data": {
      "text/plain": [
       "[1, 23, 45, 6, 'python', 'css', True, 'akshit', 'akshit', 'akshit', 0, 0, 16]"
      ]
     },
     "execution_count": 36,
     "metadata": {},
     "output_type": "execute_result"
    }
   ],
   "source": [
    "# remove\n",
    "x"
   ]
  },
  {
   "cell_type": "code",
   "execution_count": 39,
   "id": "63865eac",
   "metadata": {},
   "outputs": [],
   "source": [
    "x.remove('css')"
   ]
  },
  {
   "cell_type": "code",
   "execution_count": 40,
   "id": "3b0ae946",
   "metadata": {},
   "outputs": [
    {
     "data": {
      "text/plain": [
       "[1, 23, 45, 6, 'python', True, 'akshit', 'akshit', 'akshit', 0, 0, 16]"
      ]
     },
     "execution_count": 40,
     "metadata": {},
     "output_type": "execute_result"
    }
   ],
   "source": [
    "x"
   ]
  },
  {
   "cell_type": "code",
   "execution_count": 41,
   "id": "025d0b9c",
   "metadata": {},
   "outputs": [
    {
     "data": {
      "text/plain": [
       "[1, 23, 45, 6, 'python', True, 'akshit', 'akshit', 'akshit', 0, 0, 16]"
      ]
     },
     "execution_count": 41,
     "metadata": {},
     "output_type": "execute_result"
    }
   ],
   "source": [
    "x"
   ]
  },
  {
   "cell_type": "code",
   "execution_count": 45,
   "id": "82b812d5",
   "metadata": {},
   "outputs": [
    {
     "data": {
      "text/plain": [
       "[45, -78, 34, 90, 12, 77]"
      ]
     },
     "execution_count": 45,
     "metadata": {},
     "output_type": "execute_result"
    }
   ],
   "source": [
    "# sort\n",
    "a = [45,-78,34,90,12,77]\n",
    "a"
   ]
  },
  {
   "cell_type": "code",
   "execution_count": 43,
   "id": "c4f59d12",
   "metadata": {},
   "outputs": [],
   "source": [
    "a.sort()"
   ]
  },
  {
   "cell_type": "code",
   "execution_count": 44,
   "id": "66931bbc",
   "metadata": {},
   "outputs": [
    {
     "data": {
      "text/plain": [
       "[-78, 12, 34, 45, 77, 90]"
      ]
     },
     "execution_count": 44,
     "metadata": {},
     "output_type": "execute_result"
    }
   ],
   "source": [
    "a"
   ]
  },
  {
   "cell_type": "code",
   "execution_count": 46,
   "id": "343bdbe6",
   "metadata": {},
   "outputs": [
    {
     "data": {
      "text/plain": [
       "[45, -78, 34, 90, 12, 77]"
      ]
     },
     "execution_count": 46,
     "metadata": {},
     "output_type": "execute_result"
    }
   ],
   "source": [
    "a"
   ]
  },
  {
   "cell_type": "code",
   "execution_count": 49,
   "id": "506edb7d",
   "metadata": {},
   "outputs": [],
   "source": [
    "a.sort(reverse=True)"
   ]
  },
  {
   "cell_type": "code",
   "execution_count": 50,
   "id": "4dd1fa60",
   "metadata": {},
   "outputs": [
    {
     "data": {
      "text/plain": [
       "[90, 77, 45, 34, 12, -78]"
      ]
     },
     "execution_count": 50,
     "metadata": {},
     "output_type": "execute_result"
    }
   ],
   "source": [
    "a"
   ]
  },
  {
   "cell_type": "code",
   "execution_count": 51,
   "id": "f96056e6",
   "metadata": {},
   "outputs": [
    {
     "data": {
      "text/plain": [
       "[13, 27, 83, 44]"
      ]
     },
     "execution_count": 51,
     "metadata": {},
     "output_type": "execute_result"
    }
   ],
   "source": [
    "a = [13,27,83,44]\n",
    "a"
   ]
  },
  {
   "cell_type": "code",
   "execution_count": 52,
   "id": "d34e51e3",
   "metadata": {},
   "outputs": [],
   "source": [
    "a.reverse()"
   ]
  },
  {
   "cell_type": "code",
   "execution_count": 53,
   "id": "1df75a5a",
   "metadata": {},
   "outputs": [
    {
     "data": {
      "text/plain": [
       "[44, 83, 27, 13]"
      ]
     },
     "execution_count": 53,
     "metadata": {},
     "output_type": "execute_result"
    }
   ],
   "source": [
    "a"
   ]
  },
  {
   "cell_type": "markdown",
   "id": "9c564b4e",
   "metadata": {},
   "source": [
    "# Tuple"
   ]
  },
  {
   "cell_type": "code",
   "execution_count": 66,
   "id": "c3f59c63",
   "metadata": {},
   "outputs": [],
   "source": [
    "c = 34,45,67,'Python',\"bahuballi\",True"
   ]
  },
  {
   "cell_type": "code",
   "execution_count": 67,
   "id": "8f69cfe5",
   "metadata": {},
   "outputs": [
    {
     "data": {
      "text/plain": [
       "(34, 45, 67, 'Python', 'bahuballi', True)"
      ]
     },
     "execution_count": 67,
     "metadata": {},
     "output_type": "execute_result"
    }
   ],
   "source": [
    "c"
   ]
  },
  {
   "cell_type": "code",
   "execution_count": 68,
   "id": "71b9da03",
   "metadata": {},
   "outputs": [
    {
     "data": {
      "text/plain": [
       "tuple"
      ]
     },
     "execution_count": 68,
     "metadata": {},
     "output_type": "execute_result"
    }
   ],
   "source": [
    "type(c)"
   ]
  },
  {
   "cell_type": "code",
   "execution_count": 57,
   "id": "f5d6eb28",
   "metadata": {},
   "outputs": [
    {
     "data": {
      "text/plain": [
       "(34, 45, 67, 'Python', 'bahuballi', True)"
      ]
     },
     "execution_count": 57,
     "metadata": {},
     "output_type": "execute_result"
    }
   ],
   "source": [
    "#slicing & indexing\n",
    "c"
   ]
  },
  {
   "cell_type": "code",
   "execution_count": 58,
   "id": "b30f2865",
   "metadata": {},
   "outputs": [
    {
     "data": {
      "text/plain": [
       "'bahuballi'"
      ]
     },
     "execution_count": 58,
     "metadata": {},
     "output_type": "execute_result"
    }
   ],
   "source": [
    "c[-2]"
   ]
  },
  {
   "cell_type": "code",
   "execution_count": 59,
   "id": "8f74b063",
   "metadata": {},
   "outputs": [
    {
     "data": {
      "text/plain": [
       "'bahuballi'"
      ]
     },
     "execution_count": 59,
     "metadata": {},
     "output_type": "execute_result"
    }
   ],
   "source": [
    "c[4]"
   ]
  },
  {
   "cell_type": "code",
   "execution_count": 60,
   "id": "b68c8727",
   "metadata": {},
   "outputs": [
    {
     "data": {
      "text/plain": [
       "(34, 45, 67, 'Python')"
      ]
     },
     "execution_count": 60,
     "metadata": {},
     "output_type": "execute_result"
    }
   ],
   "source": [
    "c[0:4]"
   ]
  },
  {
   "cell_type": "code",
   "execution_count": 61,
   "id": "9eb18a47",
   "metadata": {},
   "outputs": [
    {
     "data": {
      "text/plain": [
       "(34, 45, 67, 'Python', 'bahuballi', True)"
      ]
     },
     "execution_count": 61,
     "metadata": {},
     "output_type": "execute_result"
    }
   ],
   "source": [
    "# mutable or not\n",
    "\n",
    "c"
   ]
  },
  {
   "cell_type": "code",
   "execution_count": 63,
   "id": "e1b76a93",
   "metadata": {},
   "outputs": [
    {
     "ename": "TypeError",
     "evalue": "'tuple' object does not support item assignment",
     "output_type": "error",
     "traceback": [
      "\u001b[1;31m---------------------------------------------------------------------------\u001b[0m",
      "\u001b[1;31mTypeError\u001b[0m                                 Traceback (most recent call last)",
      "\u001b[1;32m~\\AppData\\Local\\Temp/ipykernel_6344/1864099029.py\u001b[0m in \u001b[0;36m<module>\u001b[1;34m\u001b[0m\n\u001b[1;32m----> 1\u001b[1;33m \u001b[0mc\u001b[0m\u001b[1;33m[\u001b[0m\u001b[1;36m0\u001b[0m\u001b[1;33m]\u001b[0m\u001b[1;33m=\u001b[0m\u001b[1;36m45\u001b[0m\u001b[1;33m\u001b[0m\u001b[1;33m\u001b[0m\u001b[0m\n\u001b[0m",
      "\u001b[1;31mTypeError\u001b[0m: 'tuple' object does not support item assignment"
     ]
    }
   ],
   "source": [
    "c[0]=45"
   ]
  },
  {
   "cell_type": "code",
   "execution_count": 64,
   "id": "f65d5083",
   "metadata": {},
   "outputs": [
    {
     "name": "stdout",
     "output_type": "stream",
     "text": [
      "(1, 2, 3, 4, 5, 6, 7)\n"
     ]
    }
   ],
   "source": [
    "s = 1,2,3,4,5,6,7\n",
    "print(s)"
   ]
  },
  {
   "cell_type": "code",
   "execution_count": 65,
   "id": "05f4f5b8",
   "metadata": {},
   "outputs": [
    {
     "data": {
      "text/plain": [
       "tuple"
      ]
     },
     "execution_count": 65,
     "metadata": {},
     "output_type": "execute_result"
    }
   ],
   "source": [
    "type(s)"
   ]
  },
  {
   "cell_type": "code",
   "execution_count": 71,
   "id": "56595e13",
   "metadata": {},
   "outputs": [
    {
     "data": {
      "text/plain": [
       "(10, 23)"
      ]
     },
     "execution_count": 71,
     "metadata": {},
     "output_type": "execute_result"
    }
   ],
   "source": [
    "a=10,23\n",
    "a"
   ]
  },
  {
   "cell_type": "code",
   "execution_count": 72,
   "id": "7b3aa6ce",
   "metadata": {},
   "outputs": [
    {
     "data": {
      "text/plain": [
       "tuple"
      ]
     },
     "execution_count": 72,
     "metadata": {},
     "output_type": "execute_result"
    }
   ],
   "source": [
    "type(a)"
   ]
  },
  {
   "cell_type": "code",
   "execution_count": 73,
   "id": "8fbeb81e",
   "metadata": {},
   "outputs": [
    {
     "data": {
      "text/plain": [
       "(34, 45, 67, 'Python', 'bahuballi', True)"
      ]
     },
     "execution_count": 73,
     "metadata": {},
     "output_type": "execute_result"
    }
   ],
   "source": [
    "c"
   ]
  },
  {
   "cell_type": "code",
   "execution_count": 75,
   "id": "c68f7452",
   "metadata": {},
   "outputs": [
    {
     "data": {
      "text/plain": [
       "1"
      ]
     },
     "execution_count": 75,
     "metadata": {},
     "output_type": "execute_result"
    }
   ],
   "source": [
    "# tuple method\n",
    "# count & index\n",
    "c.count('Python')"
   ]
  },
  {
   "cell_type": "code",
   "execution_count": 76,
   "id": "7f194b61",
   "metadata": {},
   "outputs": [
    {
     "data": {
      "text/plain": [
       "2"
      ]
     },
     "execution_count": 76,
     "metadata": {},
     "output_type": "execute_result"
    }
   ],
   "source": [
    "c.index(67)"
   ]
  },
  {
   "cell_type": "code",
   "execution_count": 77,
   "id": "2d0ab544",
   "metadata": {},
   "outputs": [
    {
     "data": {
      "text/plain": [
       "1"
      ]
     },
     "execution_count": 77,
     "metadata": {},
     "output_type": "execute_result"
    }
   ],
   "source": [
    "c = ('Python', 'tennis')\n",
    "c.count('Python')"
   ]
  },
  {
   "cell_type": "code",
   "execution_count": 79,
   "id": "5929f859",
   "metadata": {},
   "outputs": [],
   "source": [
    "#wap to print single element tuple.\n",
    "#wap to print empty tuple.\n",
    "#wap to add a number in a tuple."
   ]
  },
  {
   "cell_type": "code",
   "execution_count": 82,
   "id": "ace5aa1a",
   "metadata": {},
   "outputs": [
    {
     "name": "stdout",
     "output_type": "stream",
     "text": [
      "(23,)\n"
     ]
    }
   ],
   "source": [
    "x = (23,)\n",
    "print(x)"
   ]
  },
  {
   "cell_type": "code",
   "execution_count": 83,
   "id": "8cb095a3",
   "metadata": {},
   "outputs": [
    {
     "data": {
      "text/plain": [
       "tuple"
      ]
     },
     "execution_count": 83,
     "metadata": {},
     "output_type": "execute_result"
    }
   ],
   "source": [
    "type(x)"
   ]
  },
  {
   "cell_type": "code",
   "execution_count": 84,
   "id": "b6f62e87",
   "metadata": {},
   "outputs": [
    {
     "name": "stdout",
     "output_type": "stream",
     "text": [
      "()\n"
     ]
    }
   ],
   "source": [
    "x = ()\n",
    "print(x)"
   ]
  },
  {
   "cell_type": "code",
   "execution_count": 85,
   "id": "f231f848",
   "metadata": {},
   "outputs": [
    {
     "data": {
      "text/plain": [
       "tuple"
      ]
     },
     "execution_count": 85,
     "metadata": {},
     "output_type": "execute_result"
    }
   ],
   "source": [
    "type(x)"
   ]
  },
  {
   "cell_type": "code",
   "execution_count": 86,
   "id": "ac3348d5",
   "metadata": {},
   "outputs": [],
   "source": [
    "x = (1,2,3,4)\n",
    "y = list(x)"
   ]
  },
  {
   "cell_type": "code",
   "execution_count": 87,
   "id": "a15c38e9",
   "metadata": {},
   "outputs": [
    {
     "data": {
      "text/plain": [
       "[1, 2, 3, 4]"
      ]
     },
     "execution_count": 87,
     "metadata": {},
     "output_type": "execute_result"
    }
   ],
   "source": [
    "y"
   ]
  },
  {
   "cell_type": "code",
   "execution_count": 88,
   "id": "d559b4c6",
   "metadata": {},
   "outputs": [],
   "source": [
    "y.append(34)"
   ]
  },
  {
   "cell_type": "code",
   "execution_count": 89,
   "id": "a0b5cc18",
   "metadata": {},
   "outputs": [
    {
     "data": {
      "text/plain": [
       "[1, 2, 3, 4, 34]"
      ]
     },
     "execution_count": 89,
     "metadata": {},
     "output_type": "execute_result"
    }
   ],
   "source": [
    "y"
   ]
  },
  {
   "cell_type": "code",
   "execution_count": 90,
   "id": "aa007998",
   "metadata": {},
   "outputs": [],
   "source": [
    "z = tuple(y)"
   ]
  },
  {
   "cell_type": "code",
   "execution_count": 91,
   "id": "2cd3fadd",
   "metadata": {},
   "outputs": [
    {
     "name": "stdout",
     "output_type": "stream",
     "text": [
      "(1, 2, 3, 4, 34)\n"
     ]
    }
   ],
   "source": [
    "print(z)"
   ]
  },
  {
   "cell_type": "code",
   "execution_count": null,
   "id": "63f1b66a",
   "metadata": {},
   "outputs": [],
   "source": []
  }
 ],
 "metadata": {
  "kernelspec": {
   "display_name": "Python 3 (ipykernel)",
   "language": "python",
   "name": "python3"
  },
  "language_info": {
   "codemirror_mode": {
    "name": "ipython",
    "version": 3
   },
   "file_extension": ".py",
   "mimetype": "text/x-python",
   "name": "python",
   "nbconvert_exporter": "python",
   "pygments_lexer": "ipython3",
   "version": "3.9.7"
  }
 },
 "nbformat": 4,
 "nbformat_minor": 5
}
