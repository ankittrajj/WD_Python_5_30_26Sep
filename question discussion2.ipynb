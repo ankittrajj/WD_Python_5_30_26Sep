{
 "cells": [
  {
   "cell_type": "code",
   "execution_count": 8,
   "id": "af27e9da",
   "metadata": {},
   "outputs": [
    {
     "name": "stdout",
     "output_type": "stream",
     "text": [
      "Even 34\n",
      "Even 56\n",
      "Odd-----> 73\n",
      "Odd-----> 97\n",
      "Even 12\n",
      "Even 68\n",
      "Even count is  4\n",
      "2\n"
     ]
    }
   ],
   "source": [
    "a = [34,56,73,97,12,68]\n",
    "count_even =0\n",
    "count_odd = 0\n",
    "for i in a:\n",
    "    if i%2==0:\n",
    "        print(\"Even\",i)\n",
    "        count_even = count_even+1\n",
    "    else:\n",
    "        print(\"Odd----->\",i)\n",
    "        count_odd+=1\n",
    "print(\"Even count is \",count_even)\n",
    "print(count_odd)"
   ]
  },
  {
   "cell_type": "code",
   "execution_count": 9,
   "id": "aaa7bf55",
   "metadata": {},
   "outputs": [
    {
     "name": "stdout",
     "output_type": "stream",
     "text": [
      "Common elemnent 89\n"
     ]
    }
   ],
   "source": [
    "a = [34,45,56,89,12]\n",
    "b = [23,14,89,32,77]\n",
    "\n",
    "for i in a:\n",
    "    for j in b:\n",
    "        if i==j:\n",
    "            print(\"Common elemnent\",i)"
   ]
  },
  {
   "cell_type": "code",
   "execution_count": 20,
   "id": "06e9f0e0",
   "metadata": {},
   "outputs": [
    {
     "name": "stdout",
     "output_type": "stream",
     "text": [
      "Common element in x&z 4\n",
      "Common element in y&z 5\n"
     ]
    }
   ],
   "source": [
    "# x,y,z\n",
    "# number which is common in x&z .\n",
    "# number which is common in y & z.\n",
    "\n",
    "x = [1,2,3,4]\n",
    "y = [5,6,3,8]\n",
    "z = [4,9,7,5]\n",
    "for i in x:\n",
    "        for k in z:\n",
    "            if i == k:\n",
    "                print(\"Common element in x&z\",i)\n",
    "for j in y:\n",
    "    for k in z:\n",
    "        if j==k:\n",
    "            print(\"Common element in y&z\",j)"
   ]
  },
  {
   "cell_type": "code",
   "execution_count": 26,
   "id": "e849b399",
   "metadata": {},
   "outputs": [
    {
     "name": "stdout",
     "output_type": "stream",
     "text": [
      "Common element 6\n",
      "-1\n"
     ]
    }
   ],
   "source": [
    "x = [45,56,89,23,45,21,25]\n",
    "# Wap to find the number which is divisble by both 3 & 5.\n",
    "\n",
    "#you have 3 list find the common element from the list\n",
    "# if there is no common data in the list print -1.\n",
    "\n",
    "a = [1,6,3,4]\n",
    "b = [5,6,7,8]\n",
    "c = [9,10,11,6]\n",
    "for i in a:\n",
    "    for j in b:\n",
    "        for k in c:\n",
    "            if i ==j==k:\n",
    "                print(\"Common element\",i)\n",
    "else:\n",
    "    print(\"-1\")"
   ]
  },
  {
   "cell_type": "code",
   "execution_count": 28,
   "id": "990b67c1",
   "metadata": {},
   "outputs": [
    {
     "name": "stdout",
     "output_type": "stream",
     "text": [
      "45\n"
     ]
    }
   ],
   "source": [
    "x = [45,56,89,23,21,25]\n",
    "for i in x:\n",
    "    if i % 3 == 0 and i % 5 == 0:\n",
    "        print(i)"
   ]
  },
  {
   "cell_type": "code",
   "execution_count": null,
   "id": "6706973e",
   "metadata": {},
   "outputs": [],
   "source": []
  }
 ],
 "metadata": {
  "kernelspec": {
   "display_name": "Python 3 (ipykernel)",
   "language": "python",
   "name": "python3"
  },
  "language_info": {
   "codemirror_mode": {
    "name": "ipython",
    "version": 3
   },
   "file_extension": ".py",
   "mimetype": "text/x-python",
   "name": "python",
   "nbconvert_exporter": "python",
   "pygments_lexer": "ipython3",
   "version": "3.9.7"
  }
 },
 "nbformat": 4,
 "nbformat_minor": 5
}
