{
 "cells": [
  {
   "cell_type": "code",
   "execution_count": 7,
   "id": "76c84b60",
   "metadata": {},
   "outputs": [
    {
     "name": "stdout",
     "output_type": "stream",
     "text": [
      "not allowed for exam\n"
     ]
    }
   ],
   "source": [
    "#syntax ------ >\n",
    "\n",
    "# if condition :\n",
    "#     print(msg)\n",
    "\n",
    "att = 15\n",
    "if att>75:\n",
    "    print(\"allowed for exam\")\n",
    "else:\n",
    "    print(\"not allowed for exam\")\n"
   ]
  },
  {
   "cell_type": "code",
   "execution_count": 11,
   "id": "4659ea1f",
   "metadata": {},
   "outputs": [
    {
     "name": "stdout",
     "output_type": "stream",
     "text": [
      "Child\n"
     ]
    }
   ],
   "source": [
    "#wap to find the individual is a child or adult\n",
    "# if the age is 18+ then he/she will be adult\n",
    "# other than this he/she will be child.\n",
    "\n",
    "age = 18\n",
    "if age>18:\n",
    "    print(\"Adult\")\n",
    "else:\n",
    "    print(\"Child\")"
   ]
  },
  {
   "cell_type": "code",
   "execution_count": 12,
   "id": "2dcde56c",
   "metadata": {},
   "outputs": [
    {
     "name": "stdout",
     "output_type": "stream",
     "text": [
      "Teenager\n"
     ]
    }
   ],
   "source": [
    "age = 18\n",
    "if age>18:\n",
    "    print(\"Adult\")\n",
    "elif age == 18:\n",
    "    print(\"Teenager\")\n",
    "else:\n",
    "    print(\"Child\")"
   ]
  },
  {
   "cell_type": "code",
   "execution_count": 18,
   "id": "93706a03",
   "metadata": {},
   "outputs": [
    {
     "name": "stdout",
     "output_type": "stream",
     "text": [
      "A\n"
     ]
    }
   ],
   "source": [
    "#wap to find the max of two numbers.\n",
    "#wap to find the max of three numbers.\n",
    "#wap to find the number is positive , \n",
    "# negative or 0.\n",
    "##wap to find the number is odd or even.\n",
    "\n",
    "\n",
    "a = 9\n",
    "b = 4\n",
    "if a>b:\n",
    "    print('A')\n",
    "else:\n",
    "    print(\"B\")"
   ]
  },
  {
   "cell_type": "code",
   "execution_count": null,
   "id": "e90dcbb2",
   "metadata": {},
   "outputs": [],
   "source": [
    "a = 9\n",
    "print(\"A\")"
   ]
  },
  {
   "cell_type": "code",
   "execution_count": null,
   "id": "8e7fedc8",
   "metadata": {},
   "outputs": [],
   "source": [
    "print(a)"
   ]
  },
  {
   "cell_type": "code",
   "execution_count": 19,
   "id": "88bb18a5",
   "metadata": {},
   "outputs": [
    {
     "name": "stdout",
     "output_type": "stream",
     "text": [
      "bnkj.bgkljhkgyigfighjlht79y0jt6789t7tg78rr\n"
     ]
    }
   ],
   "source": [
    "print(\"bnkj.bgkljhkgyigfighjlht79y0jt6789t7tg78rr\")"
   ]
  },
  {
   "cell_type": "code",
   "execution_count": null,
   "id": "69569b00",
   "metadata": {},
   "outputs": [],
   "source": []
  },
  {
   "cell_type": "code",
   "execution_count": null,
   "id": "31795c05",
   "metadata": {},
   "outputs": [],
   "source": []
  },
  {
   "cell_type": "code",
   "execution_count": 21,
   "id": "9599081f",
   "metadata": {},
   "outputs": [
    {
     "name": "stdout",
     "output_type": "stream",
     "text": [
      "89\n"
     ]
    }
   ],
   "source": [
    "x = 89\n",
    "y = 67\n",
    "z = 34\n",
    "\n",
    "if x>y and x>z:\n",
    "    print(x)\n",
    "elif y>x and y>z:\n",
    "    print(y)\n",
    "elif z>x and z>y:\n",
    "    print(z)"
   ]
  },
  {
   "cell_type": "code",
   "execution_count": 24,
   "id": "978ed417",
   "metadata": {},
   "outputs": [
    {
     "name": "stdout",
     "output_type": "stream",
     "text": [
      "Zero\n"
     ]
    }
   ],
   "source": [
    "x = 0\n",
    "if x>0:\n",
    "    print(\"Positive\")\n",
    "elif x==0:\n",
    "    print(\"Zero\")\n",
    "else:\n",
    "    print(\"Negative\")"
   ]
  },
  {
   "cell_type": "code",
   "execution_count": 26,
   "id": "e63e2157",
   "metadata": {},
   "outputs": [
    {
     "name": "stdout",
     "output_type": "stream",
     "text": [
      "Odd number\n"
     ]
    }
   ],
   "source": [
    "# odd even\n",
    "\n",
    "x = 27\n",
    "\n",
    "if x % 2 == 0:\n",
    "    print(\"Even number\")\n",
    "else:\n",
    "    print(\"Odd number\")"
   ]
  },
  {
   "cell_type": "code",
   "execution_count": 28,
   "id": "96b41b72",
   "metadata": {},
   "outputs": [
    {
     "name": "stdout",
     "output_type": "stream",
     "text": [
      "0\n"
     ]
    }
   ],
   "source": [
    "a = 15\n",
    "b = 3\n",
    "c = a%b\n",
    "print(c)"
   ]
  },
  {
   "cell_type": "code",
   "execution_count": null,
   "id": "a1defce8",
   "metadata": {},
   "outputs": [],
   "source": []
  }
 ],
 "metadata": {
  "kernelspec": {
   "display_name": "Python 3 (ipykernel)",
   "language": "python",
   "name": "python3"
  },
  "language_info": {
   "codemirror_mode": {
    "name": "ipython",
    "version": 3
   },
   "file_extension": ".py",
   "mimetype": "text/x-python",
   "name": "python",
   "nbconvert_exporter": "python",
   "pygments_lexer": "ipython3",
   "version": "3.9.7"
  }
 },
 "nbformat": 4,
 "nbformat_minor": 5
}
