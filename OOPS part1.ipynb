{
 "cells": [
  {
   "cell_type": "code",
   "execution_count": 1,
   "id": "8959cd41",
   "metadata": {},
   "outputs": [
    {
     "name": "stdout",
     "output_type": "stream",
     "text": [
      "10\n"
     ]
    }
   ],
   "source": [
    "class std:\n",
    "    a = 10\n",
    "    print(a)\n"
   ]
  },
  {
   "cell_type": "code",
   "execution_count": 12,
   "id": "da058f77",
   "metadata": {},
   "outputs": [
    {
     "ename": "TypeError",
     "evalue": "detail() takes 0 positional arguments but 1 was given",
     "output_type": "error",
     "traceback": [
      "\u001b[1;31m---------------------------------------------------------------------------\u001b[0m",
      "\u001b[1;31mTypeError\u001b[0m                                 Traceback (most recent call last)",
      "\u001b[1;32m~\\AppData\\Local\\Temp/ipykernel_6644/2892152687.py\u001b[0m in \u001b[0;36m<module>\u001b[1;34m\u001b[0m\n\u001b[0;32m      6\u001b[0m \u001b[1;33m\u001b[0m\u001b[0m\n\u001b[0;32m      7\u001b[0m \u001b[0ms\u001b[0m \u001b[1;33m=\u001b[0m \u001b[0mstd\u001b[0m\u001b[1;33m(\u001b[0m\u001b[1;33m)\u001b[0m\u001b[1;33m\u001b[0m\u001b[1;33m\u001b[0m\u001b[0m\n\u001b[1;32m----> 8\u001b[1;33m \u001b[0ms\u001b[0m\u001b[1;33m.\u001b[0m\u001b[0mdetail\u001b[0m\u001b[1;33m(\u001b[0m\u001b[1;33m)\u001b[0m\u001b[1;33m\u001b[0m\u001b[1;33m\u001b[0m\u001b[0m\n\u001b[0m",
      "\u001b[1;31mTypeError\u001b[0m: detail() takes 0 positional arguments but 1 was given"
     ]
    }
   ],
   "source": [
    "class std:\n",
    "    def detail():\n",
    "        name = 'ABC'\n",
    "        marks = 56\n",
    "        print(name,marks)\n",
    "        \n",
    "s = std()\n",
    "s.detail()"
   ]
  },
  {
   "cell_type": "code",
   "execution_count": 10,
   "id": "c3c14e50",
   "metadata": {},
   "outputs": [
    {
     "data": {
      "text/plain": [
       "7"
      ]
     },
     "execution_count": 10,
     "metadata": {},
     "output_type": "execute_result"
    }
   ],
   "source": [
    "class add:\n",
    "    def fun(self,x,y):\n",
    "        z = x+y\n",
    "        return z\n",
    "a = add()\n",
    "a.fun(3,4)"
   ]
  },
  {
   "cell_type": "code",
   "execution_count": 18,
   "id": "0c36711b",
   "metadata": {},
   "outputs": [
    {
     "name": "stdout",
     "output_type": "stream",
     "text": [
      "47500.0\n"
     ]
    }
   ],
   "source": [
    "#wap to find the total salry of a emp if the emp takes more than\n",
    "# 5 holiday then there is a deduction of 5% in his sal.\n",
    "# if the num of leaves are less than 5 then there is a \n",
    "# bonus of 12%.\n",
    "\n",
    "class sal:\n",
    "    def fun(self,leave,salary=10000):\n",
    "        if leave > 5:\n",
    "            ded = (salary*5)/100\n",
    "            total_sal_ded = salary - ded\n",
    "            print(total_sal_ded)\n",
    "        else:\n",
    "            bonus = (salary*12)/100\n",
    "            total_sal_bonus = salary+bonus\n",
    "            print(total_sal_bonus)\n",
    "            \n",
    "s = sal()\n",
    "s.fun(30,50000)\n",
    "        "
   ]
  },
  {
   "cell_type": "code",
   "execution_count": null,
   "id": "ff290a96",
   "metadata": {},
   "outputs": [],
   "source": []
  },
  {
   "cell_type": "code",
   "execution_count": null,
   "id": "1d504670",
   "metadata": {},
   "outputs": [],
   "source": []
  },
  {
   "cell_type": "code",
   "execution_count": null,
   "id": "dfda12cc",
   "metadata": {},
   "outputs": [],
   "source": []
  }
 ],
 "metadata": {
  "kernelspec": {
   "display_name": "Python 3 (ipykernel)",
   "language": "python",
   "name": "python3"
  },
  "language_info": {
   "codemirror_mode": {
    "name": "ipython",
    "version": 3
   },
   "file_extension": ".py",
   "mimetype": "text/x-python",
   "name": "python",
   "nbconvert_exporter": "python",
   "pygments_lexer": "ipython3",
   "version": "3.9.7"
  }
 },
 "nbformat": 4,
 "nbformat_minor": 5
}
