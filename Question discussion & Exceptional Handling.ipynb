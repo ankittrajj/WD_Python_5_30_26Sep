{
 "cells": [
  {
   "cell_type": "code",
   "execution_count": 1,
   "id": "061f930e",
   "metadata": {},
   "outputs": [
    {
     "ename": "NameError",
     "evalue": "name 'child' is not defined",
     "output_type": "error",
     "traceback": [
      "\u001b[1;31m---------------------------------------------------------------------------\u001b[0m",
      "\u001b[1;31mNameError\u001b[0m                                 Traceback (most recent call last)",
      "\u001b[1;32m~\\AppData\\Local\\Temp/ipykernel_6296/1964918886.py\u001b[0m in \u001b[0;36m<module>\u001b[1;34m\u001b[0m\n\u001b[0;32m      8\u001b[0m         \u001b[0mprint\u001b[0m\u001b[1;33m(\u001b[0m\u001b[0mprice\u001b[0m\u001b[1;33m)\u001b[0m\u001b[1;33m\u001b[0m\u001b[1;33m\u001b[0m\u001b[0m\n\u001b[0;32m      9\u001b[0m \u001b[1;33m\u001b[0m\u001b[0m\n\u001b[1;32m---> 10\u001b[1;33m \u001b[0mc\u001b[0m \u001b[1;33m=\u001b[0m \u001b[0mchild\u001b[0m\u001b[1;33m(\u001b[0m\u001b[1;33m)\u001b[0m\u001b[1;33m\u001b[0m\u001b[1;33m\u001b[0m\u001b[0m\n\u001b[0m\u001b[0;32m     11\u001b[0m \u001b[1;31m#c.az('BMW','Black')\u001b[0m\u001b[1;33m\u001b[0m\u001b[1;33m\u001b[0m\u001b[0m\n\u001b[0;32m     12\u001b[0m \u001b[0mc\u001b[0m\u001b[1;33m.\u001b[0m\u001b[0maz\u001b[0m\u001b[1;33m(\u001b[0m\u001b[1;34m'BMW'\u001b[0m\u001b[1;33m,\u001b[0m\u001b[1;34m'Black'\u001b[0m\u001b[1;33m,\u001b[0m\u001b[1;36m11000\u001b[0m\u001b[1;33m)\u001b[0m\u001b[1;33m\u001b[0m\u001b[1;33m\u001b[0m\u001b[0m\n",
      "\u001b[1;31mNameError\u001b[0m: name 'child' is not defined"
     ]
    }
   ],
   "source": [
    "# perform inheritance with function.\n",
    "class pc:\n",
    "    def az(self,brand,color):\n",
    "        print(brand,color)\n",
    "        \n",
    "class cc(pc):\n",
    "    def az(self,brand,color,price):\n",
    "        print(price)\n",
    "\n",
    "c = child()\n",
    "#c.az('BMW','Black')\n",
    "c.az('BMW','Black',11000)\n",
    "c.brand,c.color,c.price"
   ]
  },
  {
   "cell_type": "code",
   "execution_count": 2,
   "id": "3e4c85bf",
   "metadata": {},
   "outputs": [
    {
     "name": "stdout",
     "output_type": "stream",
     "text": [
      "a\n"
     ]
    }
   ],
   "source": [
    "class pc:\n",
    "    def fun(self,name):\n",
    "        print(name)\n",
    "    \n",
    "    \n",
    "class cc(pc):\n",
    "    def info(self,age):\n",
    "        print(age)\n",
    "        \n",
    "c = cc()\n",
    "c.fun('a')\n",
    "    "
   ]
  },
  {
   "cell_type": "code",
   "execution_count": 3,
   "id": "f4f0cc71",
   "metadata": {},
   "outputs": [
    {
     "name": "stdout",
     "output_type": "stream",
     "text": [
      "23\n"
     ]
    }
   ],
   "source": [
    "c.info(23)"
   ]
  },
  {
   "cell_type": "code",
   "execution_count": 5,
   "id": "dbcb5e59",
   "metadata": {},
   "outputs": [
    {
     "data": {
      "text/plain": [
       "[4, 16, 25, 49]"
      ]
     },
     "execution_count": 5,
     "metadata": {},
     "output_type": "execute_result"
    }
   ],
   "source": [
    "x = [2,4,5,7]\n",
    "def sd(x):\n",
    "    y=x**2\n",
    "    return y\n",
    "\n",
    "list(map(sd,x))"
   ]
  },
  {
   "cell_type": "markdown",
   "id": "c9ca1a50",
   "metadata": {},
   "source": [
    "# Exception Handling"
   ]
  },
  {
   "cell_type": "code",
   "execution_count": 15,
   "id": "3a872be4",
   "metadata": {},
   "outputs": [
    {
     "name": "stdout",
     "output_type": "stream",
     "text": [
      "Code glat ho gya bhai\n",
      "imp code\n"
     ]
    }
   ],
   "source": [
    "# print('imp code')\n",
    "def fun(a):\n",
    "    if a<4:\n",
    "        b = a/(a-3)\n",
    "try:\n",
    "    fun(3)\n",
    "\n",
    "except ZeroDivisionError:\n",
    "    print(\"Code glat ho gya bhai\")\n",
    "\n",
    "print(\"imp code\")"
   ]
  },
  {
   "cell_type": "code",
   "execution_count": null,
   "id": "d9cc55df",
   "metadata": {},
   "outputs": [],
   "source": []
  }
 ],
 "metadata": {
  "kernelspec": {
   "display_name": "Python 3 (ipykernel)",
   "language": "python",
   "name": "python3"
  },
  "language_info": {
   "codemirror_mode": {
    "name": "ipython",
    "version": 3
   },
   "file_extension": ".py",
   "mimetype": "text/x-python",
   "name": "python",
   "nbconvert_exporter": "python",
   "pygments_lexer": "ipython3",
   "version": "3.9.7"
  }
 },
 "nbformat": 4,
 "nbformat_minor": 5
}
