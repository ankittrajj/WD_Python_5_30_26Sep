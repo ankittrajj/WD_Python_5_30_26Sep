{
 "cells": [
  {
   "cell_type": "code",
   "execution_count": 2,
   "id": "23ff1787",
   "metadata": {},
   "outputs": [
    {
     "name": "stdout",
     "output_type": "stream",
     "text": [
      "Name is ----> a\n",
      "Age is --> 45\n"
     ]
    }
   ],
   "source": [
    "#wap to make a class of students and define the fun having \n",
    "# details of the students.\n",
    "\n",
    "\n",
    "class student:\n",
    "    def details(self,name,age):\n",
    "        print(\"Name is ---->\",name)\n",
    "        print(\"Age is -->\",age)\n",
    "        \n",
    "s = student()\n",
    "s.details('a',45)"
   ]
  },
  {
   "cell_type": "code",
   "execution_count": 3,
   "id": "6a274f92",
   "metadata": {},
   "outputs": [
    {
     "data": {
      "text/plain": [
       "4.0"
      ]
     },
     "execution_count": 3,
     "metadata": {},
     "output_type": "execute_result"
    }
   ],
   "source": [
    "#wap to find the avg marks of a student in 3 subject.\n",
    "\n",
    "class std:\n",
    "    def avg(self,x,y,z):\n",
    "        c = (x+y+z)/3\n",
    "        return c\n",
    "s = std()\n",
    "\n",
    "s.avg(3,4,5)"
   ]
  },
  {
   "cell_type": "code",
   "execution_count": 4,
   "id": "4fd895b9",
   "metadata": {},
   "outputs": [],
   "source": [
    "class std:\n",
    "    def __init__(self,name,age):\n",
    "        self.name = name\n",
    "        self.age = age\n",
    "        \n",
    "        \n",
    "s = std('abcd',67)"
   ]
  },
  {
   "cell_type": "code",
   "execution_count": 7,
   "id": "ba7f4f16",
   "metadata": {},
   "outputs": [
    {
     "data": {
      "text/plain": [
       "('abcd', 67)"
      ]
     },
     "execution_count": 7,
     "metadata": {},
     "output_type": "execute_result"
    }
   ],
   "source": [
    "s.name,s.age"
   ]
  },
  {
   "cell_type": "code",
   "execution_count": 6,
   "id": "45465848",
   "metadata": {},
   "outputs": [
    {
     "data": {
      "text/plain": [
       "67"
      ]
     },
     "execution_count": 6,
     "metadata": {},
     "output_type": "execute_result"
    }
   ],
   "source": [
    "s.age"
   ]
  },
  {
   "cell_type": "code",
   "execution_count": 8,
   "id": "aeee1084",
   "metadata": {},
   "outputs": [
    {
     "name": "stdout",
     "output_type": "stream",
     "text": [
      "abcd\n"
     ]
    }
   ],
   "source": [
    "#wap to find the avg marks of a student in 3 subject using \n",
    "# constructor!!\n",
    "class student():\n",
    "    def __init__(self,name,age):\n",
    "        self.name = name \n",
    "        self.age = age \n",
    "z = student(\"Anmol\",21)\n",
    "print(s.name)\n"
   ]
  },
  {
   "cell_type": "code",
   "execution_count": null,
   "id": "98e2f9df",
   "metadata": {},
   "outputs": [],
   "source": []
  }
 ],
 "metadata": {
  "kernelspec": {
   "display_name": "Python 3 (ipykernel)",
   "language": "python",
   "name": "python3"
  },
  "language_info": {
   "codemirror_mode": {
    "name": "ipython",
    "version": 3
   },
   "file_extension": ".py",
   "mimetype": "text/x-python",
   "name": "python",
   "nbconvert_exporter": "python",
   "pygments_lexer": "ipython3",
   "version": "3.9.7"
  }
 },
 "nbformat": 4,
 "nbformat_minor": 5
}
