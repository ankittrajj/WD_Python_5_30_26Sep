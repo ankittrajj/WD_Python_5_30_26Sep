{
 "cells": [
  {
   "cell_type": "code",
   "execution_count": 3,
   "id": "97cd4360",
   "metadata": {},
   "outputs": [],
   "source": [
    "#wap to add multiple data in a list using loop.\n",
    "a = [1,2,3]\n",
    "b = ['python','sql',45]\n",
    "for i in a:\n",
    "    b.append(i)"
   ]
  },
  {
   "cell_type": "code",
   "execution_count": 4,
   "id": "78afde8c",
   "metadata": {},
   "outputs": [
    {
     "name": "stdout",
     "output_type": "stream",
     "text": [
      "['python', 'sql', 45, 1, 2, 3]\n"
     ]
    }
   ],
   "source": [
    "print(b)"
   ]
  },
  {
   "cell_type": "markdown",
   "id": "7291f8a7",
   "metadata": {},
   "source": [
    "# Dict"
   ]
  },
  {
   "cell_type": "code",
   "execution_count": 5,
   "id": "6c78b8b3",
   "metadata": {},
   "outputs": [],
   "source": [
    "x = {\n",
    "    'name':'asd',\n",
    "    'age':34,\n",
    "    'marks':90\n",
    "}"
   ]
  },
  {
   "cell_type": "code",
   "execution_count": 6,
   "id": "b0e26654",
   "metadata": {},
   "outputs": [
    {
     "name": "stdout",
     "output_type": "stream",
     "text": [
      "{'name': 'asd', 'age': 34, 'marks': 90}\n"
     ]
    }
   ],
   "source": [
    "print(x)"
   ]
  },
  {
   "cell_type": "code",
   "execution_count": 7,
   "id": "29625539",
   "metadata": {},
   "outputs": [
    {
     "data": {
      "text/plain": [
       "dict"
      ]
     },
     "execution_count": 7,
     "metadata": {},
     "output_type": "execute_result"
    }
   ],
   "source": [
    "type(x)"
   ]
  },
  {
   "cell_type": "code",
   "execution_count": 11,
   "id": "ee914934",
   "metadata": {},
   "outputs": [],
   "source": [
    "#wap to make a dict of emp having name ,sal & emp_id.\n",
    "x = {\n",
    "    'name':['asd','abc','xyz'],\n",
    "    'age':(34,67,89),\n",
    "    'marks':[90,78,34]\n",
    "}"
   ]
  },
  {
   "cell_type": "code",
   "execution_count": 12,
   "id": "f37ea756",
   "metadata": {},
   "outputs": [
    {
     "data": {
      "text/plain": [
       "{'name': ['asd', 'abc', 'xyz'], 'age': (34, 67, 89), 'marks': [90, 78, 34]}"
      ]
     },
     "execution_count": 12,
     "metadata": {},
     "output_type": "execute_result"
    }
   ],
   "source": [
    "x"
   ]
  },
  {
   "cell_type": "code",
   "execution_count": 13,
   "id": "6431d04f",
   "metadata": {},
   "outputs": [
    {
     "data": {
      "text/plain": [
       "dict"
      ]
     },
     "execution_count": 13,
     "metadata": {},
     "output_type": "execute_result"
    }
   ],
   "source": [
    "type(x)"
   ]
  },
  {
   "cell_type": "code",
   "execution_count": 14,
   "id": "c09faba2",
   "metadata": {},
   "outputs": [
    {
     "data": {
      "text/plain": [
       "{'name': ['asd', 'abc', 'xyz'], 'age': (34, 67, 89), 'marks': [90, 78, 34]}"
      ]
     },
     "execution_count": 14,
     "metadata": {},
     "output_type": "execute_result"
    }
   ],
   "source": [
    "# dict -----> no index\n",
    "# slicing not possible\n",
    "x"
   ]
  },
  {
   "cell_type": "code",
   "execution_count": 17,
   "id": "b517186c",
   "metadata": {},
   "outputs": [
    {
     "data": {
      "text/plain": [
       "'xyz'"
      ]
     },
     "execution_count": 17,
     "metadata": {},
     "output_type": "execute_result"
    }
   ],
   "source": [
    "x['name'][2]"
   ]
  },
  {
   "cell_type": "code",
   "execution_count": 19,
   "id": "2bb70de7",
   "metadata": {},
   "outputs": [
    {
     "data": {
      "text/plain": [
       "34"
      ]
     },
     "execution_count": 19,
     "metadata": {},
     "output_type": "execute_result"
    }
   ],
   "source": [
    "x['age'][0]"
   ]
  },
  {
   "cell_type": "code",
   "execution_count": 20,
   "id": "4804cf79",
   "metadata": {},
   "outputs": [
    {
     "data": {
      "text/plain": [
       "{'name': ['asd', 'abc', 'xyz'], 'age': (34, 67, 89), 'marks': [90, 78, 34]}"
      ]
     },
     "execution_count": 20,
     "metadata": {},
     "output_type": "execute_result"
    }
   ],
   "source": [
    "# mutable or not ?\n",
    "x"
   ]
  },
  {
   "cell_type": "code",
   "execution_count": 22,
   "id": "4bdb30e8",
   "metadata": {},
   "outputs": [],
   "source": [
    "x['name'] = 90"
   ]
  },
  {
   "cell_type": "code",
   "execution_count": 23,
   "id": "68047a63",
   "metadata": {},
   "outputs": [
    {
     "data": {
      "text/plain": [
       "{'name': 90, 'age': (34, 67, 89), 'marks': [90, 78, 34]}"
      ]
     },
     "execution_count": 23,
     "metadata": {},
     "output_type": "execute_result"
    }
   ],
   "source": [
    "x"
   ]
  },
  {
   "cell_type": "code",
   "execution_count": 29,
   "id": "3c143150",
   "metadata": {},
   "outputs": [],
   "source": [
    "x['marks'][1] = 5"
   ]
  },
  {
   "cell_type": "code",
   "execution_count": 30,
   "id": "9f23842f",
   "metadata": {},
   "outputs": [
    {
     "data": {
      "text/plain": [
       "{'name': 90, 'age': (34, 67, 89), 'marks': [90, 5, 34]}"
      ]
     },
     "execution_count": 30,
     "metadata": {},
     "output_type": "execute_result"
    }
   ],
   "source": [
    "x"
   ]
  },
  {
   "cell_type": "code",
   "execution_count": 41,
   "id": "34d3be8d",
   "metadata": {},
   "outputs": [],
   "source": [
    "# list,dict\n",
    "x={\n",
    "    1:0,\n",
    "    '1':3,\n",
    "    1:'8',\n",
    "    0:'python',\n",
    "    1212:'hello'\n",
    "}"
   ]
  },
  {
   "cell_type": "code",
   "execution_count": 42,
   "id": "0a6ddab9",
   "metadata": {},
   "outputs": [
    {
     "data": {
      "text/plain": [
       "{1: '8', '1': 3, 0: 'python', 1212: 'hello'}"
      ]
     },
     "execution_count": 42,
     "metadata": {},
     "output_type": "execute_result"
    }
   ],
   "source": [
    "x"
   ]
  },
  {
   "cell_type": "code",
   "execution_count": 33,
   "id": "7aa84ab4",
   "metadata": {},
   "outputs": [
    {
     "data": {
      "text/plain": [
       "dict"
      ]
     },
     "execution_count": 33,
     "metadata": {},
     "output_type": "execute_result"
    }
   ],
   "source": [
    "type(x)"
   ]
  },
  {
   "cell_type": "code",
   "execution_count": 45,
   "id": "10f3ba5a",
   "metadata": {},
   "outputs": [
    {
     "name": "stdout",
     "output_type": "stream",
     "text": [
      "{}\n"
     ]
    }
   ],
   "source": [
    "#wap to make a empty dict\n",
    "#wap to make single element dict.\n",
    "\n",
    "x = {\n",
    "    \n",
    "}\n",
    "print(x)"
   ]
  },
  {
   "cell_type": "code",
   "execution_count": 46,
   "id": "31ec8fa6",
   "metadata": {},
   "outputs": [
    {
     "data": {
      "text/plain": [
       "dict"
      ]
     },
     "execution_count": 46,
     "metadata": {},
     "output_type": "execute_result"
    }
   ],
   "source": [
    "type(x)"
   ]
  },
  {
   "cell_type": "code",
   "execution_count": 50,
   "id": "aaa7b162",
   "metadata": {},
   "outputs": [],
   "source": [
    "x = {\n",
    "    'name':'saurabh'\n",
    "}"
   ]
  },
  {
   "cell_type": "code",
   "execution_count": 51,
   "id": "c48beeda",
   "metadata": {},
   "outputs": [
    {
     "name": "stdout",
     "output_type": "stream",
     "text": [
      "{'name': 'saurabh'}\n"
     ]
    }
   ],
   "source": [
    "print(x)"
   ]
  },
  {
   "cell_type": "code",
   "execution_count": 52,
   "id": "8fec4f96",
   "metadata": {},
   "outputs": [
    {
     "data": {
      "text/plain": [
       "dict"
      ]
     },
     "execution_count": 52,
     "metadata": {},
     "output_type": "execute_result"
    }
   ],
   "source": [
    "type(x)"
   ]
  },
  {
   "cell_type": "code",
   "execution_count": null,
   "id": "8c238d5c",
   "metadata": {},
   "outputs": [],
   "source": [
    "#wap to make a dict inside a dict."
   ]
  }
 ],
 "metadata": {
  "kernelspec": {
   "display_name": "Python 3 (ipykernel)",
   "language": "python",
   "name": "python3"
  },
  "language_info": {
   "codemirror_mode": {
    "name": "ipython",
    "version": 3
   },
   "file_extension": ".py",
   "mimetype": "text/x-python",
   "name": "python",
   "nbconvert_exporter": "python",
   "pygments_lexer": "ipython3",
   "version": "3.9.7"
  }
 },
 "nbformat": 4,
 "nbformat_minor": 5
}
