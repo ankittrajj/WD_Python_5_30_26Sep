{
 "cells": [
  {
   "cell_type": "code",
   "execution_count": 1,
   "id": "e20d585d",
   "metadata": {},
   "outputs": [
    {
     "name": "stdout",
     "output_type": "stream",
     "text": [
      " prime number\n"
     ]
    }
   ],
   "source": [
    "# prime numbers ------ > \n",
    "num = 7\n",
    "if num>1:\n",
    "    for i in range(2,num):\n",
    "        if num%i == 0:\n",
    "            print(\"not Prime Number\")\n",
    "            break\n",
    "            \n",
    "    else:\n",
    "        print(' prime number')\n",
    "        \n",
    "else:\n",
    "    print('Not prime')\n",
    "        \n",
    "        \n",
    "    "
   ]
  },
  {
   "cell_type": "code",
   "execution_count": 2,
   "id": "57441c48",
   "metadata": {},
   "outputs": [
    {
     "name": "stdout",
     "output_type": "stream",
     "text": [
      "2.5\n"
     ]
    }
   ],
   "source": [
    "x = [1,2,3,4]\n",
    "avg = 0\n",
    "for i in x:\n",
    "    avg = i+avg\n",
    "avg = avg/4\n",
    "    \n",
    "print(avg)\n",
    "    "
   ]
  },
  {
   "cell_type": "code",
   "execution_count": 3,
   "id": "ca0ac668",
   "metadata": {},
   "outputs": [
    {
     "data": {
      "text/plain": [
       "2.5"
      ]
     },
     "execution_count": 3,
     "metadata": {},
     "output_type": "execute_result"
    }
   ],
   "source": [
    "10/4"
   ]
  },
  {
   "cell_type": "code",
   "execution_count": 4,
   "id": "ebf2b02b",
   "metadata": {},
   "outputs": [],
   "source": [
    "# year%100 == 0 and year%400=0\n",
    "# year%4 == 0 and year%100!=0\n"
   ]
  },
  {
   "cell_type": "code",
   "execution_count": 7,
   "id": "64baaf89",
   "metadata": {},
   "outputs": [
    {
     "name": "stdout",
     "output_type": "stream",
     "text": [
      "16\n"
     ]
    }
   ],
   "source": [
    "x = 16\n",
    "y = 4\n",
    "if x>y:\n",
    "    greater = x\n",
    "else:\n",
    "    greater = y\n",
    "\n",
    "while (True):\n",
    "    if greater % x == 0 and greater % y == 0:\n",
    "        print(greater)\n",
    "        break\n",
    "    greater+=1"
   ]
  },
  {
   "cell_type": "code",
   "execution_count": 12,
   "id": "03f5f731",
   "metadata": {},
   "outputs": [
    {
     "name": "stdout",
     "output_type": "stream",
     "text": [
      "4321\n"
     ]
    }
   ],
   "source": [
    "num = 1234\n",
    "rev = 0\n",
    "while num>0:\n",
    "    x = num%10\n",
    "    rev = rev * 10 + x\n",
    "    num = num//10\n",
    "print(rev)"
   ]
  },
  {
   "cell_type": "code",
   "execution_count": 13,
   "id": "314a6643",
   "metadata": {},
   "outputs": [
    {
     "data": {
      "text/plain": [
       "'nohtyp'"
      ]
     },
     "execution_count": 13,
     "metadata": {},
     "output_type": "execute_result"
    }
   ],
   "source": [
    "a = 'python'\n",
    "a[::-1]"
   ]
  },
  {
   "cell_type": "code",
   "execution_count": 17,
   "id": "01776f86",
   "metadata": {},
   "outputs": [
    {
     "name": "stdout",
     "output_type": "stream",
     "text": [
      "nohtyp\n"
     ]
    }
   ],
   "source": [
    "a = 'python'\n",
    "rev = ''\n",
    "for i in a:\n",
    "    rev = i+rev\n",
    "print(rev)"
   ]
  },
  {
   "cell_type": "code",
   "execution_count": null,
   "id": "f16619c5",
   "metadata": {},
   "outputs": [],
   "source": [
    "#wap to find a string is palindrom or not."
   ]
  },
  {
   "cell_type": "code",
   "execution_count": 20,
   "id": "8c2982dd",
   "metadata": {},
   "outputs": [],
   "source": [
    "lang_listtuple= [('C#',1), ('Go',7), ('Basic',8), ('Python',60)]\n",
    "lang_listtuple.sort()"
   ]
  },
  {
   "cell_type": "code",
   "execution_count": 21,
   "id": "61cfabdc",
   "metadata": {},
   "outputs": [
    {
     "data": {
      "text/plain": [
       "[('Basic', 8), ('C#', 1), ('Go', 7), ('Python', 60)]"
      ]
     },
     "execution_count": 21,
     "metadata": {},
     "output_type": "execute_result"
    }
   ],
   "source": [
    "lang_listtuple"
   ]
  },
  {
   "cell_type": "code",
   "execution_count": null,
   "id": "c48e8c42",
   "metadata": {},
   "outputs": [],
   "source": []
  }
 ],
 "metadata": {
  "kernelspec": {
   "display_name": "Python 3 (ipykernel)",
   "language": "python",
   "name": "python3"
  },
  "language_info": {
   "codemirror_mode": {
    "name": "ipython",
    "version": 3
   },
   "file_extension": ".py",
   "mimetype": "text/x-python",
   "name": "python",
   "nbconvert_exporter": "python",
   "pygments_lexer": "ipython3",
   "version": "3.9.7"
  }
 },
 "nbformat": 4,
 "nbformat_minor": 5
}
